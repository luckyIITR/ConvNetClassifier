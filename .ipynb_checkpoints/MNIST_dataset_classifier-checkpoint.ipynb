{
 "cells": [
  {
   "cell_type": "code",
   "execution_count": 1,
   "id": "cf67b790-11eb-4f7a-8d47-80e0b3038ef9",
   "metadata": {},
   "outputs": [],
   "source": [
    "import pandas as pd\n",
    "import numpy as np\n",
    "import matplotlib.pyplot as plt"
   ]
  },
  {
   "cell_type": "code",
   "execution_count": 2,
   "id": "e2d8aa91-1642-4906-923f-0636eea18cd1",
   "metadata": {},
   "outputs": [
    {
     "name": "stdout",
     "output_type": "stream",
     "text": [
      "digit-recognizer.zip  test.csv\n",
      "sample_submission.csv train.csv\n"
     ]
    }
   ],
   "source": [
    "!ls \"data\""
   ]
  },
  {
   "cell_type": "code",
   "execution_count": 3,
   "id": "eb6d07d8-2755-451f-9c0c-61a2176d1463",
   "metadata": {},
   "outputs": [
    {
     "data": {
      "text/html": [
       "<div>\n",
       "<style scoped>\n",
       "    .dataframe tbody tr th:only-of-type {\n",
       "        vertical-align: middle;\n",
       "    }\n",
       "\n",
       "    .dataframe tbody tr th {\n",
       "        vertical-align: top;\n",
       "    }\n",
       "\n",
       "    .dataframe thead th {\n",
       "        text-align: right;\n",
       "    }\n",
       "</style>\n",
       "<table border=\"1\" class=\"dataframe\">\n",
       "  <thead>\n",
       "    <tr style=\"text-align: right;\">\n",
       "      <th></th>\n",
       "      <th>label</th>\n",
       "      <th>pixel0</th>\n",
       "      <th>pixel1</th>\n",
       "      <th>pixel2</th>\n",
       "      <th>pixel3</th>\n",
       "      <th>pixel4</th>\n",
       "      <th>pixel5</th>\n",
       "      <th>pixel6</th>\n",
       "      <th>pixel7</th>\n",
       "      <th>pixel8</th>\n",
       "      <th>...</th>\n",
       "      <th>pixel774</th>\n",
       "      <th>pixel775</th>\n",
       "      <th>pixel776</th>\n",
       "      <th>pixel777</th>\n",
       "      <th>pixel778</th>\n",
       "      <th>pixel779</th>\n",
       "      <th>pixel780</th>\n",
       "      <th>pixel781</th>\n",
       "      <th>pixel782</th>\n",
       "      <th>pixel783</th>\n",
       "    </tr>\n",
       "  </thead>\n",
       "  <tbody>\n",
       "    <tr>\n",
       "      <th>0</th>\n",
       "      <td>1</td>\n",
       "      <td>0</td>\n",
       "      <td>0</td>\n",
       "      <td>0</td>\n",
       "      <td>0</td>\n",
       "      <td>0</td>\n",
       "      <td>0</td>\n",
       "      <td>0</td>\n",
       "      <td>0</td>\n",
       "      <td>0</td>\n",
       "      <td>...</td>\n",
       "      <td>0</td>\n",
       "      <td>0</td>\n",
       "      <td>0</td>\n",
       "      <td>0</td>\n",
       "      <td>0</td>\n",
       "      <td>0</td>\n",
       "      <td>0</td>\n",
       "      <td>0</td>\n",
       "      <td>0</td>\n",
       "      <td>0</td>\n",
       "    </tr>\n",
       "    <tr>\n",
       "      <th>1</th>\n",
       "      <td>0</td>\n",
       "      <td>0</td>\n",
       "      <td>0</td>\n",
       "      <td>0</td>\n",
       "      <td>0</td>\n",
       "      <td>0</td>\n",
       "      <td>0</td>\n",
       "      <td>0</td>\n",
       "      <td>0</td>\n",
       "      <td>0</td>\n",
       "      <td>...</td>\n",
       "      <td>0</td>\n",
       "      <td>0</td>\n",
       "      <td>0</td>\n",
       "      <td>0</td>\n",
       "      <td>0</td>\n",
       "      <td>0</td>\n",
       "      <td>0</td>\n",
       "      <td>0</td>\n",
       "      <td>0</td>\n",
       "      <td>0</td>\n",
       "    </tr>\n",
       "    <tr>\n",
       "      <th>2</th>\n",
       "      <td>1</td>\n",
       "      <td>0</td>\n",
       "      <td>0</td>\n",
       "      <td>0</td>\n",
       "      <td>0</td>\n",
       "      <td>0</td>\n",
       "      <td>0</td>\n",
       "      <td>0</td>\n",
       "      <td>0</td>\n",
       "      <td>0</td>\n",
       "      <td>...</td>\n",
       "      <td>0</td>\n",
       "      <td>0</td>\n",
       "      <td>0</td>\n",
       "      <td>0</td>\n",
       "      <td>0</td>\n",
       "      <td>0</td>\n",
       "      <td>0</td>\n",
       "      <td>0</td>\n",
       "      <td>0</td>\n",
       "      <td>0</td>\n",
       "    </tr>\n",
       "    <tr>\n",
       "      <th>3</th>\n",
       "      <td>4</td>\n",
       "      <td>0</td>\n",
       "      <td>0</td>\n",
       "      <td>0</td>\n",
       "      <td>0</td>\n",
       "      <td>0</td>\n",
       "      <td>0</td>\n",
       "      <td>0</td>\n",
       "      <td>0</td>\n",
       "      <td>0</td>\n",
       "      <td>...</td>\n",
       "      <td>0</td>\n",
       "      <td>0</td>\n",
       "      <td>0</td>\n",
       "      <td>0</td>\n",
       "      <td>0</td>\n",
       "      <td>0</td>\n",
       "      <td>0</td>\n",
       "      <td>0</td>\n",
       "      <td>0</td>\n",
       "      <td>0</td>\n",
       "    </tr>\n",
       "    <tr>\n",
       "      <th>4</th>\n",
       "      <td>0</td>\n",
       "      <td>0</td>\n",
       "      <td>0</td>\n",
       "      <td>0</td>\n",
       "      <td>0</td>\n",
       "      <td>0</td>\n",
       "      <td>0</td>\n",
       "      <td>0</td>\n",
       "      <td>0</td>\n",
       "      <td>0</td>\n",
       "      <td>...</td>\n",
       "      <td>0</td>\n",
       "      <td>0</td>\n",
       "      <td>0</td>\n",
       "      <td>0</td>\n",
       "      <td>0</td>\n",
       "      <td>0</td>\n",
       "      <td>0</td>\n",
       "      <td>0</td>\n",
       "      <td>0</td>\n",
       "      <td>0</td>\n",
       "    </tr>\n",
       "  </tbody>\n",
       "</table>\n",
       "<p>5 rows × 785 columns</p>\n",
       "</div>"
      ],
      "text/plain": [
       "   label  pixel0  pixel1  pixel2  pixel3  pixel4  pixel5  pixel6  pixel7  \\\n",
       "0      1       0       0       0       0       0       0       0       0   \n",
       "1      0       0       0       0       0       0       0       0       0   \n",
       "2      1       0       0       0       0       0       0       0       0   \n",
       "3      4       0       0       0       0       0       0       0       0   \n",
       "4      0       0       0       0       0       0       0       0       0   \n",
       "\n",
       "   pixel8  ...  pixel774  pixel775  pixel776  pixel777  pixel778  pixel779  \\\n",
       "0       0  ...         0         0         0         0         0         0   \n",
       "1       0  ...         0         0         0         0         0         0   \n",
       "2       0  ...         0         0         0         0         0         0   \n",
       "3       0  ...         0         0         0         0         0         0   \n",
       "4       0  ...         0         0         0         0         0         0   \n",
       "\n",
       "   pixel780  pixel781  pixel782  pixel783  \n",
       "0         0         0         0         0  \n",
       "1         0         0         0         0  \n",
       "2         0         0         0         0  \n",
       "3         0         0         0         0  \n",
       "4         0         0         0         0  \n",
       "\n",
       "[5 rows x 785 columns]"
      ]
     },
     "execution_count": 3,
     "metadata": {},
     "output_type": "execute_result"
    }
   ],
   "source": [
    "df = pd.read_csv('data/train.csv')\n",
    "df.head()"
   ]
  },
  {
   "cell_type": "code",
   "execution_count": 4,
   "id": "29ec9a72-8ab8-4918-baa3-acea5ff05409",
   "metadata": {},
   "outputs": [
    {
     "data": {
      "text/plain": [
       "label\n",
       "1    4684\n",
       "7    4401\n",
       "3    4351\n",
       "9    4188\n",
       "2    4177\n",
       "6    4137\n",
       "0    4132\n",
       "4    4072\n",
       "8    4063\n",
       "5    3795\n",
       "Name: count, dtype: int64"
      ]
     },
     "execution_count": 4,
     "metadata": {},
     "output_type": "execute_result"
    }
   ],
   "source": [
    "df['label'].value_counts()"
   ]
  },
  {
   "cell_type": "code",
   "execution_count": 5,
   "id": "3013d3ed-818d-4084-a42b-c0ef75b23be0",
   "metadata": {},
   "outputs": [
    {
     "data": {
      "text/plain": [
       "(42000,)"
      ]
     },
     "execution_count": 5,
     "metadata": {},
     "output_type": "execute_result"
    }
   ],
   "source": [
    "y = df['label'].values\n",
    "y.shape"
   ]
  },
  {
   "cell_type": "code",
   "execution_count": 6,
   "id": "c5c466e2-0196-4fe4-a0b8-800f583483ae",
   "metadata": {},
   "outputs": [
    {
     "data": {
      "text/plain": [
       "(42000, 784)"
      ]
     },
     "execution_count": 6,
     "metadata": {},
     "output_type": "execute_result"
    }
   ],
   "source": [
    "X = df.drop(columns=['label']).values\n",
    "X.shape"
   ]
  },
  {
   "cell_type": "code",
   "execution_count": 7,
   "id": "ab0604a5-28fe-425c-9716-8ec6167f3ced",
   "metadata": {
    "scrolled": true
   },
   "outputs": [
    {
     "data": {
      "image/png": "[encoded data removed]",
      "text/plain": [
       "<Figure size 640x480 with 1 Axes>"
      ]
     },
     "metadata": {},
     "output_type": "display_data"
    }
   ],
   "source": [
    "i = 8\n",
    "img = X[i].reshape(28, 28)\n",
    "plt.imshow(img, cmap='gray')\n",
    "plt.title(f'{y[i]}')\n",
    "plt.show()"
   ]
  },
  {
   "cell_type": "markdown",
   "id": "37f11a22-0fd6-4c0f-97f9-860a8b2c23f1",
   "metadata": {},
   "source": [
    "### Train test val split"
   ]
  },
  {
   "cell_type": "code",
   "execution_count": 8,
   "id": "fe278651-fff2-4913-8aad-4b3efdfb2250",
   "metadata": {},
   "outputs": [
    {
     "name": "stdout",
     "output_type": "stream",
     "text": [
      "x_train shape (34020, 784)\n",
      "x_val shape (3780, 784)\n",
      "y_train shape (34020,)\n",
      "y_val shape (3780,)\n"
     ]
    }
   ],
   "source": [
    "# Split the train and the validation set for the fitting\n",
    "from sklearn.model_selection import train_test_split\n",
    "X_train, X_test, y_train, y_test = train_test_split(X, y, test_size = 0.1, random_state=2)\n",
    "X_train, X_val, y_train, y_val = train_test_split(X_train, y_train, test_size = 0.1, random_state=2)\n",
    "print(\"x_train shape\",X_train.shape)\n",
    "print(\"x_val shape\",X_val.shape)\n",
    "print(\"y_train shape\",y_train.shape)\n",
    "print(\"y_val shape\",y_val.shape)"
   ]
  },
  {
   "cell_type": "code",
   "execution_count": 9,
   "id": "e57b4a7e-e67b-43d7-8a53-7a0cfddc298c",
   "metadata": {},
   "outputs": [
    {
     "data": {
      "text/plain": [
       "((4200, 784), (4200,))"
      ]
     },
     "execution_count": 9,
     "metadata": {},
     "output_type": "execute_result"
    }
   ],
   "source": [
    "X_test.shape, y_test.shape"
   ]
  },
  {
   "cell_type": "markdown",
   "id": "4d5e01a1-3cc2-4f5c-a4e8-cc6fe208133f",
   "metadata": {},
   "source": [
    "## Preprocessing\n",
    "\n",
    "- Normalization\n",
    "- Reshape\n",
    "- Label encoding\n"
   ]
  },
  {
   "cell_type": "code",
   "execution_count": 10,
   "id": "d7d518c4-4376-4586-833f-4b41fe44d2a1",
   "metadata": {},
   "outputs": [],
   "source": [
    "X_train = X_train.astype(np.float32)\n",
    "X_test = X_test.astype(np.float32)\n",
    "X_val = X_val.astype(np.float32)"
   ]
  },
  {
   "cell_type": "code",
   "execution_count": 11,
   "id": "4078ffba-4db5-4d26-9a76-33184a76fb2e",
   "metadata": {},
   "outputs": [],
   "source": [
    "# Normalize and reshape\n",
    "def preprocess(X):\n",
    "    X /= 255.0\n",
    "    X = X.reshape(-1,28,28,1)\n",
    "    return X\n",
    "X_train = preprocess(X_train)\n",
    "X_test = preprocess(X_test)\n",
    "X_val = preprocess(X_val)"
   ]
  },
  {
   "cell_type": "code",
   "execution_count": 12,
   "id": "699177b2-30ff-4347-8fbd-0259c9bc7c97",
   "metadata": {},
   "outputs": [
    {
     "data": {
      "text/plain": [
       "(34020, 28, 28, 1)"
      ]
     },
     "execution_count": 12,
     "metadata": {},
     "output_type": "execute_result"
    }
   ],
   "source": [
    "X_train.shape"
   ]
  },
  {
   "cell_type": "code",
   "execution_count": 13,
   "id": "7d6c7de8-9175-448f-a883-f0acd5b40cd7",
   "metadata": {},
   "outputs": [],
   "source": [
    "import torch\n",
    "import torch.nn as nn\n",
    "import torch.nn.functional as F"
   ]
  },
  {
   "cell_type": "code",
   "execution_count": 14,
   "id": "8736fb7d-82a8-496e-9218-6c4b896082ac",
   "metadata": {},
   "outputs": [],
   "source": [
    "X_train = torch.tensor(X_train)\n",
    "X_test = torch.tensor(X_test)\n",
    "X_val = torch.tensor(X_val)\n",
    "\n",
    "y_train = torch.tensor(y_train)\n",
    "y_test = torch.tensor(y_test)\n",
    "y_val = torch.tensor(y_val)"
   ]
  },
  {
   "cell_type": "code",
   "execution_count": 15,
   "id": "963d5250-c764-46e5-af56-74dc4c4419cd",
   "metadata": {},
   "outputs": [],
   "source": [
    "X_train = X_train.permute(0, 3, 1, 2)\n",
    "X_val = X_val.permute(0, 3, 1, 2)\n",
    "X_test = X_test.permute(0, 3, 1, 2)"
   ]
  },
  {
   "cell_type": "code",
   "execution_count": 17,
   "id": "3e7367a1-f748-4dfd-b9d7-86b4b7bcf277",
   "metadata": {},
   "outputs": [],
   "source": [
    "from torch.utils.data import DataLoader, TensorDataset\n",
    "\n",
    "dataset_train = TensorDataset(X_train, y_train)\n",
    "train_loader = DataLoader(dataset_train, batch_size=64, shuffle=True)\n",
    "\n",
    "dataset_val = TensorDataset(X_val, y_val)\n",
    "val_loader = DataLoader(dataset_val, batch_size=64, shuffle=True)"
   ]
  },
  {
   "cell_type": "code",
   "execution_count": 18,
   "id": "8e6ed5c1-9bcf-420f-a494-2e5d4669cbc3",
   "metadata": {},
   "outputs": [],
   "source": [
    "class ClassifierNet(nn.Module):\n",
    "    def __init__(self):\n",
    "        super(ClassifierNet, self).__init__()\n",
    "        # conv2d -> relu -> maxpool\n",
    "        self.conv1 = nn.Conv2d(in_channels=1, out_channels=8, kernel_size=(5, 5), stride=1, padding=2, bias=True)\n",
    "        self.relu1 = nn.ReLU()\n",
    "        self.pool1 = nn.MaxPool2d((2, 2))\n",
    "        # conv2d -> relu -> maxpool\n",
    "        self.conv2 = nn.Conv2d(in_channels=8, out_channels=16, kernel_size=(3, 3), stride=1, padding=1, bias=True) \n",
    "        self.relu2 = nn.ReLU()\n",
    "        self.pool2 = nn.MaxPool2d((2, 2)) \n",
    "\n",
    "        self.fc1 = nn.Linear(in_features=784, out_features=256, bias=True)\n",
    "        self.relu3 = nn.ReLU()\n",
    "        \n",
    "        self.fc2 = nn.Linear(in_features=256, out_features=10)\n",
    "\n",
    "    def forward(self, x):\n",
    "        x = self.conv1(x)\n",
    "        x = self.relu1(x)\n",
    "        x = self.pool1(x)\n",
    "\n",
    "        x = self.conv2(x)\n",
    "        x = self.relu2(x)\n",
    "        x = self.pool2(x)\n",
    "\n",
    "        x = torch.flatten(x, start_dim=1)\n",
    "        x = self.fc1(x)\n",
    "        x = self.relu3(x)\n",
    "        x = self.fc2(x)\n",
    "        return x"
   ]
  },
  {
   "cell_type": "code",
   "execution_count": 19,
   "id": "239576c8-5ca0-4b9b-8f15-1b5cb4eaa74f",
   "metadata": {},
   "outputs": [],
   "source": [
    "model = ClassifierNet()"
   ]
  },
  {
   "cell_type": "code",
   "execution_count": 20,
   "id": "b6945390-07ca-4fd9-aa6c-9c397c7aa15b",
   "metadata": {},
   "outputs": [
    {
     "data": {
      "text/plain": [
       "torch.Size([34020, 1, 28, 28])"
      ]
     },
     "execution_count": 20,
     "metadata": {},
     "output_type": "execute_result"
    }
   ],
   "source": [
    "X_train.shape"
   ]
  },
  {
   "cell_type": "code",
   "execution_count": 21,
   "id": "f80a9cd7-5ea6-4da2-bec8-da598cb853fa",
   "metadata": {
    "scrolled": true
   },
   "outputs": [
    {
     "data": {
      "text/plain": [
       "torch.Size([1, 10])"
      ]
     },
     "execution_count": 21,
     "metadata": {},
     "output_type": "execute_result"
    }
   ],
   "source": [
    "outputs = model(X_train[0].view(1,1,28,28))\n",
    "outputs.shape"
   ]
  },
  {
   "cell_type": "code",
   "execution_count": 22,
   "id": "cdfee5e3-cb36-4bb4-98ac-78cde90ac7a5",
   "metadata": {},
   "outputs": [
    {
     "data": {
      "text/plain": [
       "tensor([ 0.0176, -0.0143, -0.0441, -0.0088,  0.0590,  0.0739,  0.0035,  0.0116,\n",
       "        -0.0577, -0.0511], grad_fn=<SelectBackward0>)"
      ]
     },
     "execution_count": 22,
     "metadata": {},
     "output_type": "execute_result"
    }
   ],
   "source": [
    "outputs[0]"
   ]
  },
  {
   "cell_type": "code",
   "execution_count": 23,
   "id": "675a1525-7a88-428a-9ad8-262c49363f4e",
   "metadata": {},
   "outputs": [
    {
     "data": {
      "text/plain": [
       "<generator object Module.parameters at 0x158add0e0>"
      ]
     },
     "execution_count": 23,
     "metadata": {},
     "output_type": "execute_result"
    }
   ],
   "source": [
    "model.parameters()"
   ]
  },
  {
   "cell_type": "code",
   "execution_count": 24,
   "id": "14ca54a3-6d28-46d4-be67-0b5c11ff9ad0",
   "metadata": {},
   "outputs": [],
   "source": [
    "class EarlyStopping:\n",
    "    def __init__(self, patience=5, min_delta=0.0):\n",
    "        self.patience = patience\n",
    "        self.min_delta = min_delta\n",
    "        self.counter = 0\n",
    "        self.best_loss = float('inf')\n",
    "        self.early_stop = False\n",
    "\n",
    "    def __call__(self, val_loss):\n",
    "        if val_loss < self.best_loss - self.min_delta:\n",
    "            self.best_loss = val_loss\n",
    "            self.counter = 0\n",
    "        else:\n",
    "            self.counter += 1\n",
    "        if self.counter >= self.patience:\n",
    "            self.early_stop = True\n",
    "\n",
    "\n",
    "class ModelCheckpoint:\n",
    "    def __init__(self, filepath=\"best_model.pt\", mode=\"min\"):\n",
    "        self.filepath = filepath\n",
    "        self.best_score = float('inf') if mode == \"min\" else -float('inf')\n",
    "        self.monitor_op = (lambda a, b: a < b) if mode == \"min\" else (lambda a, b: a > b)\n",
    "\n",
    "    def __call__(self, model, current_score):\n",
    "        if self.monitor_op(current_score, self.best_score):\n",
    "            self.best_score = current_score\n",
    "            torch.save(model.state_dict(), self.filepath)\n",
    "            print(f\"[Checkpoint] Model saved to {self.filepath}, val_loss = {current_score:.4f}\")\n",
    "\n",
    "\n",
    "class SimpleLogger:\n",
    "    def on_epoch_end(self, epoch, logs):\n",
    "        print(f\"[Epoch {epoch+1}] Train Loss = {logs['train_loss']:.4f}, Val Loss = {logs['val_loss']:.4f}\")"
   ]
  },
  {
   "cell_type": "code",
   "execution_count": 25,
   "id": "45c0c432-786f-4249-b15b-cfd821d35063",
   "metadata": {},
   "outputs": [],
   "source": [
    "early_stopper = EarlyStopping(patience=3)\n",
    "checkpoint = ModelCheckpoint(\"best_model.pt\")\n",
    "logger = SimpleLogger()"
   ]
  },
  {
   "cell_type": "code",
   "execution_count": 26,
   "id": "fa8aed6c-f65f-4a25-bd4b-a4eaaa109820",
   "metadata": {},
   "outputs": [],
   "source": [
    "from torch.utils.tensorboard import SummaryWriter\n",
    "\n",
    "writer = SummaryWriter(log_dir=\"runs/exp1\")  # You can name the experiment folder"
   ]
  },
  {
   "cell_type": "code",
   "execution_count": 27,
   "id": "d2b4b92f-db0a-407c-8b4a-6fdd0e99dbf0",
   "metadata": {},
   "outputs": [],
   "source": [
    "# Model, optimizer, loss\n",
    "model = ClassifierNet()\n",
    "optimizer = torch.optim.Adam(model.parameters(), lr=1e-3)\n",
    "loss_fn = nn.CrossEntropyLoss()\n",
    "device = torch.device(\"cuda\" if torch.cuda.is_available() else \"cpu\")"
   ]
  },
  {
   "cell_type": "code",
   "execution_count": 28,
   "id": "d487ea5a-641c-4f06-824e-c4b16aa6fb94",
   "metadata": {},
   "outputs": [
    {
     "name": "stdout",
     "output_type": "stream",
     "text": [
      "[Checkpoint] Model saved to best_model.pt, val_loss = 0.1289\n",
      "[Epoch 1] Train Loss = 0.3627, Val Loss = 0.1289\n",
      "Epoch 1: Train Loss = 0.3627, Val Loss = 0.1289\n",
      "[Checkpoint] Model saved to best_model.pt, val_loss = 0.0845\n",
      "[Epoch 2] Train Loss = 0.0982, Val Loss = 0.0845\n",
      "Epoch 2: Train Loss = 0.0982, Val Loss = 0.0845\n",
      "[Checkpoint] Model saved to best_model.pt, val_loss = 0.0701\n",
      "[Epoch 3] Train Loss = 0.0676, Val Loss = 0.0701\n",
      "Epoch 3: Train Loss = 0.0676, Val Loss = 0.0701\n",
      "[Checkpoint] Model saved to best_model.pt, val_loss = 0.0630\n",
      "[Epoch 4] Train Loss = 0.0517, Val Loss = 0.0630\n",
      "Epoch 4: Train Loss = 0.0517, Val Loss = 0.0630\n",
      "[Checkpoint] Model saved to best_model.pt, val_loss = 0.0619\n",
      "[Epoch 5] Train Loss = 0.0393, Val Loss = 0.0619\n",
      "Epoch 5: Train Loss = 0.0393, Val Loss = 0.0619\n",
      "[Checkpoint] Model saved to best_model.pt, val_loss = 0.0487\n",
      "[Epoch 6] Train Loss = 0.0345, Val Loss = 0.0487\n",
      "Epoch 6: Train Loss = 0.0345, Val Loss = 0.0487\n",
      "[Epoch 7] Train Loss = 0.0285, Val Loss = 0.0543\n",
      "Epoch 7: Train Loss = 0.0285, Val Loss = 0.0543\n",
      "[Epoch 8] Train Loss = 0.0229, Val Loss = 0.0520\n",
      "Epoch 8: Train Loss = 0.0229, Val Loss = 0.0520\n",
      "[Epoch 9] Train Loss = 0.0200, Val Loss = 0.0597\n",
      "[EarlyStopping] Training stopped early.\n"
     ]
    }
   ],
   "source": [
    "epochs = 10\n",
    "train_losses = []\n",
    "val_losses = []\n",
    "\n",
    "for epoch in range(epochs):\n",
    "    model.train()\n",
    "    running_train_loss = 0.0\n",
    "\n",
    "    for inputs, targets in train_loader:\n",
    "        inputs, targets = inputs.to(device), targets.to(device)\n",
    "\n",
    "        optimizer.zero_grad()\n",
    "        outputs = model(inputs)\n",
    "        loss = loss_fn(outputs, targets)\n",
    "        loss.backward()\n",
    "        optimizer.step()\n",
    "\n",
    "        running_train_loss += loss.item() * inputs.size(0)\n",
    "\n",
    "    train_loss = running_train_loss / len(train_loader.dataset)\n",
    "    train_losses.append(train_loss)\n",
    "\n",
    "    # === Validation ===\n",
    "    model.eval()\n",
    "    running_val_loss = 0.0\n",
    "    with torch.no_grad():\n",
    "        for inputs, targets in val_loader:\n",
    "            inputs, targets = inputs.to(device), targets.to(device)\n",
    "\n",
    "            outputs = model(inputs)\n",
    "            loss = loss_fn(outputs, targets)\n",
    "            running_val_loss += loss.item() * inputs.size(0)\n",
    "\n",
    "    val_loss = running_val_loss / len(val_loader.dataset)\n",
    "    val_losses.append(val_loss)\n",
    "\n",
    "    # === Callbacks ===\n",
    "    checkpoint(model, val_loss)\n",
    "    early_stopper(val_loss)\n",
    "    logger.on_epoch_end(epoch, {\"train_loss\": train_loss, \"val_loss\": val_loss})\n",
    "\n",
    "    if early_stopper.early_stop:\n",
    "        print(\"[EarlyStopping] Training stopped early.\")\n",
    "        break\n",
    "    # === TensorBoard Logging ===\n",
    "    writer.add_scalar(\"Loss/Train\", train_loss, epoch)\n",
    "    writer.add_scalar(\"Loss/Val\", val_loss, epoch)\n",
    "    # writer.add_scalar(\"Accuracy/Train\", train_acc, epoch)\n",
    "    # writer.add_scalar(\"Accuracy/Val\", val_acc, epoch)\n",
    "    writer.add_scalar(\"Learning_Rate\", optimizer.param_groups[0]['lr'], epoch)\n",
    "\n",
    "    print(f\"Epoch {epoch+1}: Train Loss = {train_loss:.4f}, Val Loss = {val_loss:.4f}\")"
   ]
  },
  {
   "cell_type": "code",
   "execution_count": 29,
   "id": "52528527-479d-4b52-a809-e0631c605622",
   "metadata": {},
   "outputs": [
    {
     "data": {
      "image/png": "[encoded data removed]",
      "text/plain": [
       "<Figure size 800x500 with 1 Axes>"
      ]
     },
     "metadata": {},
     "output_type": "display_data"
    }
   ],
   "source": [
    "# === Plotting ===\n",
    "plt.figure(figsize=(8, 5))\n",
    "plt.plot(train_losses, label='Train Loss')\n",
    "plt.plot(val_losses, label='Validation Loss')\n",
    "plt.xlabel('Epoch')\n",
    "plt.ylabel('Loss')\n",
    "plt.title('Training vs Validation Loss')\n",
    "plt.legend()\n",
    "plt.grid(True)\n",
    "plt.show()"
   ]
  },
  {
   "cell_type": "code",
   "execution_count": 30,
   "id": "5cca547a-d2c6-4afd-b08f-99580ad1025c",
   "metadata": {},
   "outputs": [
    {
     "data": {
      "text/plain": [
       "ClassifierNet(\n",
       "  (conv1): Conv2d(1, 8, kernel_size=(5, 5), stride=(1, 1), padding=(2, 2))\n",
       "  (relu1): ReLU()\n",
       "  (pool1): MaxPool2d(kernel_size=(2, 2), stride=(2, 2), padding=0, dilation=1, ceil_mode=False)\n",
       "  (conv2): Conv2d(8, 16, kernel_size=(3, 3), stride=(1, 1), padding=(1, 1))\n",
       "  (relu2): ReLU()\n",
       "  (pool2): MaxPool2d(kernel_size=(2, 2), stride=(2, 2), padding=0, dilation=1, ceil_mode=False)\n",
       "  (fc1): Linear(in_features=784, out_features=256, bias=True)\n",
       "  (relu3): ReLU()\n",
       "  (fc2): Linear(in_features=256, out_features=10, bias=True)\n",
       ")"
      ]
     },
     "execution_count": 30,
     "metadata": {},
     "output_type": "execute_result"
    }
   ],
   "source": [
    "model.load_state_dict(torch.load(\"best_model.pt\", weights_only=True))\n",
    "model.to(device)  # move to GPU/CPU\n",
    "model.eval()      # set to eval mode for inference"
   ]
  },
  {
   "cell_type": "code",
   "execution_count": 31,
   "id": "b76ee967-1351-416f-9b05-7e801c37b60f",
   "metadata": {},
   "outputs": [
    {
     "name": "stdout",
     "output_type": "stream",
     "text": [
      "Test Loss: 0.0468, Accuracy: 0.9860\n"
     ]
    }
   ],
   "source": [
    "def evaluate_test_loss_and_accuracy(model, X_val, y_val, loss_fn, device, batch_size=64):\n",
    "    model.eval()\n",
    "    dataset = TensorDataset(X_val, y_val)\n",
    "    dataloader = DataLoader(dataset, batch_size=batch_size, shuffle=False)\n",
    "\n",
    "    total_loss = 0.0\n",
    "    correct = 0\n",
    "    total = 0\n",
    "\n",
    "    with torch.no_grad():\n",
    "        for inputs, targets in dataloader:\n",
    "            inputs, targets = inputs.to(device), targets.to(device)\n",
    "\n",
    "            outputs = model(inputs)\n",
    "            loss = loss_fn(outputs, targets)\n",
    "            total_loss += loss.item() * inputs.size(0)\n",
    "\n",
    "            preds = outputs.argmax(dim=1)\n",
    "            correct += (preds == targets).sum().item()\n",
    "            total += targets.size(0)\n",
    "\n",
    "    avg_loss = total_loss / total\n",
    "    accuracy = correct / total\n",
    "    return avg_loss, accuracy\n",
    "\n",
    "val_loss, val_acc = evaluate_test_loss_and_accuracy(model, X_test, y_test, loss_fn, device)\n",
    "print(f\"Test Loss: {val_loss:.4f}, Accuracy: {val_acc:.4f}\")"
   ]
  },
  {
   "cell_type": "code",
   "execution_count": null,
   "id": "0938f48c-7fe6-4689-a415-b09e6f9fd323",
   "metadata": {},
   "outputs": [],
   "source": []
  },
  {
   "cell_type": "code",
   "execution_count": null,
   "id": "8b82a062-f5e7-4c3b-913f-68587a2e11b3",
   "metadata": {},
   "outputs": [],
   "source": []
  }
 ],
 "metadata": {
  "kernelspec": {
   "display_name": "Python 3 (ipykernel)",
   "language": "python",
   "name": "python3"
  },
  "language_info": {
   "codemirror_mode": {
    "name": "ipython",
    "version": 3
   },
   "file_extension": ".py",
   "mimetype": "text/x-python",
   "name": "python",
   "nbconvert_exporter": "python",
   "pygments_lexer": "ipython3",
   "version": "3.11.11"
  }
 },
 "nbformat": 4,
 "nbformat_minor": 5
}

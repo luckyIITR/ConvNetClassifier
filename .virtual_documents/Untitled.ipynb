import pandas as pd
import numpy as np
import matplotlib.pyplot as plt


get_ipython().getoutput("ls "data"")


df = pd.read_csv('data/train.csv')
df.head()


df['label'].value_counts()


y = df['label'].values
y.shape


X = df.drop(columns=['label']).values
X.shape


i = 8
img = X[i].reshape(28, 28)
plt.imshow(img, cmap='gray')
plt.title(f'{y[i]}')
plt.show()





# Split the train and the validation set for the fitting
from sklearn.model_selection import train_test_split
X_train, X_test, y_train, y_test = train_test_split(X, y, test_size = 0.1, random_state=2)
X_train, X_val, y_train, y_val = train_test_split(X_train, y_train, test_size = 0.1, random_state=2)
print("x_train shape",X_train.shape)
print("x_val shape",X_val.shape)
print("y_train shape",Y_train.shape)
print("y_val shape",Y_val.shape)


X_test.shape, y_test.shape





X_train = X_train.astype(np.float32)
X_test = X_test.astype(np.float32)
X_val = X_val.astype(np.float32)


# Normalize and reshape
def preprocess(X):
    X /= 255.0
    X = X.reshape(-1,28,28,1)
    return X
X_train = preprocess(X_train)
X_test = preprocess(X_test)
X_val = preprocess(X_val)


X_train.shape


import torch
import torch.nn as nn
import torch.nn.functional as F


X_train = torch.tensor(X_train)
X_test = torch.tensor(X_test)
X_val = torch.tensor(X_val)

y_train = torch.tensor(y_train)
y_test = torch.tensor(y_test)
y_val = torch.tensor(y_val)


X_train = X_train.permute(0, 3, 1, 2)




X_val = X_val.permute(0, 3, 1, 2)
X_test = X_test.permute(0, 3, 1, 2)


X_train.shape



class ClassifierNet(nn.Module):
    def __init__(self):
        super(ClassifierNet, self).__init__()
        # conv2d -> relu -> maxpool
        self.conv1 = nn.Conv2d(in_channels=1, out_channels=8, kernel_size=(5, 5), stride=1, padding=2, bias=True)
        self.relu1 = nn.ReLU()
        self.pool1 = nn.MaxPool2d((2, 2))
        # conv2d -> relu -> maxpool
        self.conv2 = nn.Conv2d(in_channels=8, out_channels=16, kernel_size=(3, 3), stride=1, padding=1, bias=True) 
        self.relu2 = nn.ReLU()
        self.pool2 = nn.MaxPool2d((2, 2)) 

        self.fc1 = nn.Linear(in_features=784, out_features=256, bias=True)
        self.relu3 = nn.ReLU()
        
        self.fc2 = nn.Linear(in_features=256, out_features=10)

    def forward(self, x):
        x = self.conv1(x)
        x = self.relu1(x)
        x = self.pool1(x)

        x = self.conv2(x)
        x = self.relu2(x)
        x = self.pool2(x)

        x = torch.flatten(x, start_dim=1)
        x = self.fc1(x)
        x = self.relu3(x)
        x = self.fc2(x)
        return x


model = ClassifierNet()


X_train.shape


outputs = model(X_train)
outputs.shape


outputs[0]


model.parameters()


# optimizer, loss
optimizer = torch.optim.Adam(model.parameters(), lr=1e-3)
loss_fn = nn.CrossEntropyLoss()


epochs = 5

for epoch in range(epochs):
    # Forward pass
    outputs = model(X_train)
    loss = loss_fn(outputs, y_train)

    # backprop
    optimizer.zero_grad()
    loss.backward()

    # update
    optimizer.step()
    print(loss.item())


preds = outputs.argmax(dim=1)
correct = (preds == y_train).sum().item()


total = len(X_train)


accuracy = correct / total
print(f"Epoch {epoch+1}: Accuracy={accuracy:.4f}")


model.eval()
with torch.no_grad():
    inputs, targets = X_val, y_val

    outputs = model(inputs)
    loss = loss_fn(outputs, targets)
    total_loss = loss.item()

    preds = outputs.argmax(dim=1)
    correct = (preds == targets).sum().item()
    total = len(X_val)

accuracy = correct / total
loss, accuracy







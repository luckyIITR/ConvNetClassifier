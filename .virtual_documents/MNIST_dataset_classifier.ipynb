import pandas as pd
import numpy as np
import matplotlib.pyplot as plt


get_ipython().getoutput("ls "data"")


df = pd.read_csv('data/train.csv')
df.head()


df['label'].value_counts()


y = df['label'].values
y.shape


X = df.drop(columns=['label']).values
X.shape


i = 8
img = X[i].reshape(28, 28)
plt.imshow(img, cmap='gray')
plt.title(f'{y[i]}')
plt.show()





# Split the train and the validation set for the fitting
from sklearn.model_selection import train_test_split
X_train, X_test, y_train, y_test = train_test_split(X, y, test_size = 0.1, random_state=2)
X_train, X_val, y_train, y_val = train_test_split(X_train, y_train, test_size = 0.1, random_state=2)
print("x_train shape",X_train.shape)
print("x_val shape",X_val.shape)
print("y_train shape",y_train.shape)
print("y_val shape",y_val.shape)


X_test.shape, y_test.shape





X_train = X_train.astype(np.float32)
X_test = X_test.astype(np.float32)
X_val = X_val.astype(np.float32)


# Normalize and reshape
def preprocess(X):
    X /= 255.0
    X = X.reshape(-1,28,28,1)
    return X
X_train = preprocess(X_train)
X_test = preprocess(X_test)
X_val = preprocess(X_val)


X_train.shape


import torch
import torch.nn as nn
import torch.nn.functional as F


X_train = torch.tensor(X_train)
X_test = torch.tensor(X_test)
X_val = torch.tensor(X_val)

y_train = torch.tensor(y_train)
y_test = torch.tensor(y_test)
y_val = torch.tensor(y_val)


X_train = X_train.permute(0, 3, 1, 2)
X_val = X_val.permute(0, 3, 1, 2)
X_test = X_test.permute(0, 3, 1, 2)


from torch.utils.data import DataLoader, TensorDataset

dataset_train = TensorDataset(X_train, y_train)
train_loader = DataLoader(dataset, batch_size=64, shuffle=True)

dataset_val = TensorDataset(X_val, y_val)
val_loader = DataLoader(dataset_val, batch_size=64, shuffle=True)


class ClassifierNet(nn.Module):
    def __init__(self):
        super(ClassifierNet, self).__init__()
        # conv2d -> relu -> maxpool
        self.conv1 = nn.Conv2d(in_channels=1, out_channels=8, kernel_size=(5, 5), stride=1, padding=2, bias=True)
        self.relu1 = nn.ReLU()
        self.pool1 = nn.MaxPool2d((2, 2))
        # conv2d -> relu -> maxpool
        self.conv2 = nn.Conv2d(in_channels=8, out_channels=16, kernel_size=(3, 3), stride=1, padding=1, bias=True) 
        self.relu2 = nn.ReLU()
        self.pool2 = nn.MaxPool2d((2, 2)) 

        self.fc1 = nn.Linear(in_features=784, out_features=256, bias=True)
        self.relu3 = nn.ReLU()
        
        self.fc2 = nn.Linear(in_features=256, out_features=10)

    def forward(self, x):
        x = self.conv1(x)
        x = self.relu1(x)
        x = self.pool1(x)

        x = self.conv2(x)
        x = self.relu2(x)
        x = self.pool2(x)

        x = torch.flatten(x, start_dim=1)
        x = self.fc1(x)
        x = self.relu3(x)
        x = self.fc2(x)
        return x


model = ClassifierNet()


X_train.shape


outputs = model(X_train[0].view(1,1,28,28))
outputs.shape


outputs[0]


model.parameters()


class EarlyStopping:
    def __init__(self, patience=5, min_delta=0.0):
        self.patience = patience
        self.min_delta = min_delta
        self.counter = 0
        self.best_loss = float('inf')
        self.early_stop = False

    def __call__(self, val_loss):
        if val_loss < self.best_loss - self.min_delta:
            self.best_loss = val_loss
            self.counter = 0
        else:
            self.counter += 1
        if self.counter >= self.patience:
            self.early_stop = True


class ModelCheckpoint:
    def __init__(self, filepath="best_model.pt", mode="min"):
        self.filepath = filepath
        self.best_score = float('inf') if mode == "min" else -float('inf')
        self.monitor_op = (lambda a, b: a < b) if mode == "min" else (lambda a, b: a > b)

    def __call__(self, model, current_score):
        if self.monitor_op(current_score, self.best_score):
            self.best_score = current_score
            torch.save(model.state_dict(), self.filepath)
            print(f"[Checkpoint] Model saved to {self.filepath}, val_loss = {current_score:.4f}")


class SimpleLogger:
    def on_epoch_end(self, epoch, logs):
        print(f"[Epoch {epoch+1}] Train Loss = {logs['train_loss']:.4f}, Val Loss = {logs['val_loss']:.4f}")


early_stopper = EarlyStopping(patience=3)
checkpoint = ModelCheckpoint("best_model.pt")
logger = SimpleLogger()


from torch.utils.tensorboard import SummaryWriter

writer = SummaryWriter(log_dir="runs/exp1")  # You can name the experiment folder


# Model, optimizer, loss
model = ClassifierNet()
optimizer = torch.optim.Adam(model.parameters(), lr=1e-3)
loss_fn = nn.CrossEntropyLoss()
device = torch.device("cuda" if torch.cuda.is_available() else "cpu")


epochs = 10
train_losses = []
val_losses = []

for epoch in range(epochs):
    model.train()
    running_train_loss = 0.0

    for inputs, targets in train_loader:
        inputs, targets = inputs.to(device), targets.to(device)

        optimizer.zero_grad()
        outputs = model(inputs)
        loss = loss_fn(outputs, targets)
        loss.backward()
        optimizer.step()

        running_train_loss += loss.item() * inputs.size(0)

    train_loss = running_train_loss / len(train_loader.dataset)
    train_losses.append(train_loss)

    # === Validation ===
    model.eval()
    running_val_loss = 0.0
    with torch.no_grad():
        for inputs, targets in val_loader:
            inputs, targets = inputs.to(device), targets.to(device)

            outputs = model(inputs)
            loss = loss_fn(outputs, targets)
            running_val_loss += loss.item() * inputs.size(0)

    val_loss = running_val_loss / len(val_loader.dataset)
    val_losses.append(val_loss)

    # === Callbacks ===
    checkpoint(model, val_loss)
    early_stopper(val_loss)
    logger.on_epoch_end(epoch, {"train_loss": train_loss, "val_loss": val_loss})

    if early_stopper.early_stop:
        print("[EarlyStopping] Training stopped early.")
        break
    # === TensorBoard Logging ===
    writer.add_scalar("Loss/Train", train_loss, epoch)
    writer.add_scalar("Loss/Val", val_loss, epoch)
    # writer.add_scalar("Accuracy/Train", train_acc, epoch)
    # writer.add_scalar("Accuracy/Val", val_acc, epoch)
    writer.add_scalar("Learning_Rate", optimizer.param_groups[0]['lr'], epoch)

    print(f"Epoch {epoch+1}: Train Loss = {train_loss:.4f}, Val Loss = {val_loss:.4f}")


# === Plotting ===
plt.figure(figsize=(8, 5))
plt.plot(train_losses, label='Train Loss')
plt.plot(val_losses, label='Validation Loss')
plt.xlabel('Epoch')
plt.ylabel('Loss')
plt.title('Training vs Validation Loss')
plt.legend()
plt.grid(True)
plt.show()


model.load_state_dict(torch.load("best_model.pt", weights_only=True))
model.to(device)  # move to GPU/CPU
model.eval()      # set to eval mode for inference


def evaluate_test_loss_and_accuracy(model, X_val, y_val, loss_fn, device, batch_size=64):
    model.eval()
    dataset = TensorDataset(X_val, y_val)
    dataloader = DataLoader(dataset, batch_size=batch_size, shuffle=False)

    total_loss = 0.0
    correct = 0
    total = 0

    with torch.no_grad():
        for inputs, targets in dataloader:
            inputs, targets = inputs.to(device), targets.to(device)

            outputs = model(inputs)
            loss = loss_fn(outputs, targets)
            total_loss += loss.item() * inputs.size(0)

            preds = outputs.argmax(dim=1)
            correct += (preds == targets).sum().item()
            total += targets.size(0)

    avg_loss = total_loss / total
    accuracy = correct / total
    return avg_loss, accuracy

val_loss, val_acc = evaluate_test_loss_and_accuracy(model, X_test, y_test, loss_fn, device)
print(f"Test Loss: {val_loss:.4f}, Accuracy: {val_acc:.4f}")






